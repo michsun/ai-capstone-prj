{
 "cells": [
  {
   "cell_type": "code",
   "execution_count": 2,
   "id": "a6776dc0",
   "metadata": {},
   "outputs": [
    {
     "ename": "ModuleNotFoundError",
     "evalue": "No module named 'gymnasium'",
     "output_type": "error",
     "traceback": [
      "\u001b[0;31m---------------------------------------------------------------------------\u001b[0m",
      "\u001b[0;31mModuleNotFoundError\u001b[0m                       Traceback (most recent call last)",
      "Cell \u001b[0;32mIn[2], line 1\u001b[0m\n\u001b[0;32m----> 1\u001b[0m \u001b[38;5;28;01mimport\u001b[39;00m \u001b[38;5;21;01mgymnasium\u001b[39;00m \u001b[38;5;28;01mas\u001b[39;00m \u001b[38;5;21;01mgym\u001b[39;00m\n\u001b[1;32m      2\u001b[0m \u001b[38;5;28;01mfrom\u001b[39;00m \u001b[38;5;21;01mgymnasium\u001b[39;00m\u001b[38;5;21;01m.\u001b[39;00m\u001b[38;5;21;01mutils\u001b[39;00m\u001b[38;5;21;01m.\u001b[39;00m\u001b[38;5;21;01mplay\u001b[39;00m \u001b[38;5;28;01mimport\u001b[39;00m play\n\u001b[1;32m      3\u001b[0m \u001b[38;5;28;01mfrom\u001b[39;00m \u001b[38;5;21;01mgymnasium\u001b[39;00m\u001b[38;5;21;01m.\u001b[39;00m\u001b[38;5;21;01mutils\u001b[39;00m\u001b[38;5;21;01m.\u001b[39;00m\u001b[38;5;21;01msave_video\u001b[39;00m \u001b[38;5;28;01mimport\u001b[39;00m save_video\n",
      "\u001b[0;31mModuleNotFoundError\u001b[0m: No module named 'gymnasium'"
     ]
    }
   ],
   "source": [
    "import gymnasium as gym\n",
    "from gymnasium.utils.play import play\n",
    "from gymnasium.utils.save_video import save_video\n",
    "from gymnasium.wrappers import RenderCollection\n",
    "import pandas as pd"
   ]
  },
  {
   "cell_type": "code",
   "execution_count": 3,
   "id": "c0149666",
   "metadata": {},
   "outputs": [
    {
     "ename": "NameError",
     "evalue": "name 'RenderCollection' is not defined",
     "output_type": "error",
     "traceback": [
      "\u001b[0;31m---------------------------------------------------------------------------\u001b[0m",
      "\u001b[0;31mNameError\u001b[0m                                 Traceback (most recent call last)",
      "Cell \u001b[0;32mIn[3], line 1\u001b[0m\n\u001b[0;32m----> 1\u001b[0m env \u001b[38;5;241m=\u001b[39m \u001b[43mRenderCollection\u001b[49m(gym\u001b[38;5;241m.\u001b[39mmake(\u001b[38;5;124m'\u001b[39m\u001b[38;5;124mCartPole-v1\u001b[39m\u001b[38;5;124m'\u001b[39m, render_mode\u001b[38;5;241m=\u001b[39m\u001b[38;5;124m'\u001b[39m\u001b[38;5;124mrgb_array\u001b[39m\u001b[38;5;124m'\u001b[39m), pop_frames\u001b[38;5;241m=\u001b[39m\u001b[38;5;28;01mFalse\u001b[39;00m)\n",
      "\u001b[0;31mNameError\u001b[0m: name 'RenderCollection' is not defined"
     ]
    }
   ],
   "source": [
    "env = RenderCollection(gym.make('CartPole-v1', render_mode='rgb_array'), pop_frames=False)"
   ]
  },
  {
   "cell_type": "code",
   "execution_count": 4,
   "id": "7dd2c711",
   "metadata": {},
   "outputs": [],
   "source": [
    "observations = [[]]\n",
    "episode_index = 0\n",
    "total_reward = 0\n",
    "\n",
    "# If a callback is provided, it will be executed after every step.\n",
    "# It takes the following input: \n",
    "# - obs_t: observation before performing action\n",
    "# - obs_tp1: observation after performing action\n",
    "# - action: action that was executed\n",
    "# - rew: reward that was received \n",
    "# - terminated: whether the environment is terminated or not \n",
    "# - truncated: whether the environment is truncated or not \n",
    "# - info: debug info\n",
    "def onEveryStep(obs_t, obs_tp1, action, rew, terminated, truncated, _):\n",
    "    global env, episode_index, observations, total_reward\n",
    "    if terminated or truncated:\n",
    "        observations.append([])\n",
    "        df = pd.DataFrame(observations[episode_index], columns=['Action', 'State (Before)', 'State (After)', 'Total Reward'])\n",
    "        df.to_csv(f'simulated-sample-observations/episode-{episode_index}.csv')\n",
    "        save_video(env.render(), 'simulated-sample-video', fps=25, name_prefix='sample', episode_index=episode_index)\n",
    "        episode_index += 1\n",
    "        toatal_reward = 0\n",
    "        env.reset()\n",
    "        return\n",
    "    \n",
    "    total_reward += rew\n",
    "    observations[episode_index].append((action, obs_t, obs_tp1, total_reward))"
   ]
  },
  {
   "cell_type": "code",
   "execution_count": null,
   "id": "aaea243b",
   "metadata": {
    "scrolled": false
   },
   "outputs": [],
   "source": [
    "play(env, keys_to_action={'z': 0, 'c': 1}, fps=6, zoom=2, callback=onEveryStep)"
   ]
  },
  {
   "cell_type": "code",
   "execution_count": null,
   "id": "f426f044",
   "metadata": {},
   "outputs": [],
   "source": []
  },
  {
   "cell_type": "code",
   "execution_count": null,
   "id": "203e024e",
   "metadata": {},
   "outputs": [],
   "source": []
  }
 ],
 "metadata": {
  "kernelspec": {
   "display_name": "Python 3 (ipykernel)",
   "language": "python",
   "name": "python3"
  },
  "language_info": {
   "codemirror_mode": {
    "name": "ipython",
    "version": 3
   },
   "file_extension": ".py",
   "mimetype": "text/x-python",
   "name": "python",
   "nbconvert_exporter": "python",
   "pygments_lexer": "ipython3",
   "version": "3.11.2"
  },
  "toc": {
   "base_numbering": 1,
   "nav_menu": {},
   "number_sections": true,
   "sideBar": true,
   "skip_h1_title": false,
   "title_cell": "Table of Contents",
   "title_sidebar": "Contents",
   "toc_cell": false,
   "toc_position": {},
   "toc_section_display": true,
   "toc_window_display": false
  }
 },
 "nbformat": 4,
 "nbformat_minor": 5
}
