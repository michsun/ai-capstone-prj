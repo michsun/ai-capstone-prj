{
 "cells": [
  {
   "cell_type": "code",
   "execution_count": 1,
   "id": "a6776dc0",
   "metadata": {},
   "outputs": [],
   "source": [
    "import gymnasium as gym\n",
    "from gymnasium.utils.play import play\n",
    "from gymnasium.utils.save_video import save_video\n",
    "from gymnasium.wrappers import RenderCollection\n",
    "import pandas as pd"
   ]
  },
  {
   "cell_type": "code",
   "execution_count": 2,
   "id": "c0149666",
   "metadata": {},
   "outputs": [],
   "source": [
    "env = RenderCollection(gym.make('CartPole-v1', render_mode='rgb_array'), pop_frames=False)"
   ]
  },
  {
   "cell_type": "code",
   "execution_count": 3,
   "id": "7dd2c711",
   "metadata": {},
   "outputs": [],
   "source": [
    "observations = [[]]\n",
    "episode_index = 0\n",
    "total_reward = 0\n",
    "\n",
    "# If a callback is provided, it will be executed after every step.\n",
    "# It takes the following input: \n",
    "# - obs_t: observation before performing action\n",
    "# - obs_tp1: observation after performing action\n",
    "# - action: action that was executed\n",
    "# - rew: reward that was received \n",
    "# - terminated: whether the environment is terminated or not \n",
    "# - truncated: whether the environment is truncated or not \n",
    "# - info: debug info\n",
    "def onEveryStep(obs_t, obs_tp1, action, rew, terminated, truncated, _):\n",
    "    global env, episode_index, observations, total_reward\n",
    "    if terminated or truncated:\n",
    "        observations.append([])\n",
    "        df = pd.DataFrame(observations[episode_index], columns=['Action', 'State (Before)', 'State (After)', 'Total Reward'])\n",
    "        df.to_csv(f'simulated-sample-observations/episode-{episode_index}.csv')\n",
    "        save_video(env.render(), 'simulated-sample-video', fps=25, name_prefix='sample', episode_index=episode_index)\n",
    "        episode_index += 1\n",
    "        toatal_reward = 0\n",
    "        env.reset()\n",
    "        return\n",
    "    \n",
    "    total_reward += rew\n",
    "    observations[episode_index].append((action, obs_t, obs_tp1, total_reward))"
   ]
  },
  {
   "cell_type": "code",
   "execution_count": 11,
   "id": "aaea243b",
   "metadata": {
    "scrolled": false
   },
   "outputs": [
    {
     "name": "stdout",
     "output_type": "stream",
     "text": [
      "Moviepy - Building video /Users/michellesun/Documents/UTS/2023s1 aut/41004 AI Capstone /ai-capstone-prj/data/simulated-sample-video/sample-episode-0.mp4.\n",
      "Moviepy - Writing video /Users/michellesun/Documents/UTS/2023s1 aut/41004 AI Capstone /ai-capstone-prj/data/simulated-sample-video/sample-episode-0.mp4\n",
      "\n"
     ]
    },
    {
     "name": "stderr",
     "output_type": "stream",
     "text": [
      "                                                                                                                                                                        \r"
     ]
    },
    {
     "name": "stdout",
     "output_type": "stream",
     "text": [
      "Moviepy - Done !\n",
      "Moviepy - video ready /Users/michellesun/Documents/UTS/2023s1 aut/41004 AI Capstone /ai-capstone-prj/data/simulated-sample-video/sample-episode-0.mp4\n",
      "Moviepy - Building video /Users/michellesun/Documents/UTS/2023s1 aut/41004 AI Capstone /ai-capstone-prj/data/simulated-sample-video/sample-episode-1.mp4.\n",
      "Moviepy - Writing video /Users/michellesun/Documents/UTS/2023s1 aut/41004 AI Capstone /ai-capstone-prj/data/simulated-sample-video/sample-episode-1.mp4\n",
      "\n"
     ]
    },
    {
     "name": "stderr",
     "output_type": "stream",
     "text": [
      "                                                                                                                                                                        "
     ]
    },
    {
     "name": "stdout",
     "output_type": "stream",
     "text": [
      "Moviepy - Done !\n",
      "Moviepy - video ready /Users/michellesun/Documents/UTS/2023s1 aut/41004 AI Capstone /ai-capstone-prj/data/simulated-sample-video/sample-episode-1.mp4\n"
     ]
    },
    {
     "name": "stderr",
     "output_type": "stream",
     "text": [
      "\r"
     ]
    },
    {
     "name": "stdout",
     "output_type": "stream",
     "text": [
      "Moviepy - Building video /Users/michellesun/Documents/UTS/2023s1 aut/41004 AI Capstone /ai-capstone-prj/data/simulated-sample-video/sample-episode-8.mp4.\n",
      "Moviepy - Writing video /Users/michellesun/Documents/UTS/2023s1 aut/41004 AI Capstone /ai-capstone-prj/data/simulated-sample-video/sample-episode-8.mp4\n",
      "\n"
     ]
    },
    {
     "name": "stderr",
     "output_type": "stream",
     "text": [
      "                                                                                                                                                                        "
     ]
    },
    {
     "name": "stdout",
     "output_type": "stream",
     "text": [
      "Moviepy - Done !\n",
      "Moviepy - video ready /Users/michellesun/Documents/UTS/2023s1 aut/41004 AI Capstone /ai-capstone-prj/data/simulated-sample-video/sample-episode-8.mp4\n"
     ]
    },
    {
     "name": "stderr",
     "output_type": "stream",
     "text": [
      "\r"
     ]
    }
   ],
   "source": [
    "play(env, keys_to_action={'z': 0, 'c': 1}, fps=6, zoom=2, callback=onEveryStep)"
   ]
  },
  {
   "cell_type": "code",
   "execution_count": null,
   "id": "f426f044",
   "metadata": {},
   "outputs": [],
   "source": []
  },
  {
   "cell_type": "code",
   "execution_count": null,
   "id": "203e024e",
   "metadata": {},
   "outputs": [],
   "source": []
  }
 ],
 "metadata": {
  "kernelspec": {
   "display_name": "Python 3 (ipykernel)",
   "language": "python",
   "name": "python3"
  },
  "language_info": {
   "codemirror_mode": {
    "name": "ipython",
    "version": 3
   },
   "file_extension": ".py",
   "mimetype": "text/x-python",
   "name": "python",
   "nbconvert_exporter": "python",
   "pygments_lexer": "ipython3",
   "version": "3.9.16"
  },
  "toc": {
   "base_numbering": 1,
   "nav_menu": {},
   "number_sections": true,
   "sideBar": true,
   "skip_h1_title": false,
   "title_cell": "Table of Contents",
   "title_sidebar": "Contents",
   "toc_cell": false,
   "toc_position": {},
   "toc_section_display": true,
   "toc_window_display": false
  }
 },
 "nbformat": 4,
 "nbformat_minor": 5
}
