{
 "cells": [
  {
   "cell_type": "code",
   "execution_count": 1,
   "id": "a6776dc0",
   "metadata": {},
   "outputs": [],
   "source": [
    "import gymnasium as gym\n",
    "from gymnasium.utils.play import play\n",
    "from gymnasium.utils.save_video import save_video\n",
    "from gymnasium.wrappers import RenderCollection\n",
    "import pandas as pd"
   ]
  },
  {
   "cell_type": "code",
   "execution_count": 2,
   "id": "c0149666",
   "metadata": {},
   "outputs": [
    {
     "name": "stderr",
     "output_type": "stream",
     "text": [
      "A.L.E: Arcade Learning Environment (version 0.8.1+53f58b7)\n",
      "[Powered by Stella]\n"
     ]
    }
   ],
   "source": [
    "env = RenderCollection(gym.make('ALE/BattleZone-v5', render_mode='rgb_array'), pop_frames=False)"
   ]
  },
  {
   "cell_type": "code",
   "execution_count": 3,
   "id": "7dd2c711",
   "metadata": {},
   "outputs": [],
   "source": [
    "observations = [[]]\n",
    "episode_index = 0\n",
    "total_reward = 0\n",
    "\n",
    "# If a callback is provided, it will be executed after every step.\n",
    "# It takes the following input: \n",
    "# - obs_t: observation before performing action\n",
    "# - obs_tp1: observation after performing action\n",
    "# - action: action that was executed\n",
    "# - rew: reward that was received \n",
    "# - terminated: whether the environment is terminated or not \n",
    "# - truncated: whether the environment is truncated or not \n",
    "# - info: debug info\n",
    "def onEveryStep(obs_t, obs_tp1, action, rew, terminated, truncated, _):\n",
    "    global env, episode_index, observations, total_reward\n",
    "    if terminated or truncated:\n",
    "        observations.append([])\n",
    "        df = pd.DataFrame(observations[episode_index], columns=['Action', 'State (Before)', 'State (After)', 'Total Reward'])\n",
    "        df.to_csv(f'battlezone-sample/episode-{episode_index}.csv')\n",
    "        save_video(env.render(), 'battlezone-sample', fps=25, episode_trigger=lambda x: True, name_prefix='sample', episode_index=episode_index)\n",
    "        episode_index += 1\n",
    "        total_reward = 0\n",
    "        env.reset()\n",
    "        return\n",
    "    \n",
    "    total_reward += rew\n",
    "    observations[episode_index].append((action, obs_t, obs_tp1, total_reward))"
   ]
  },
  {
   "cell_type": "code",
   "execution_count": 4,
   "id": "aaea243b",
   "metadata": {
    "scrolled": false
   },
   "outputs": [
    {
     "name": "stderr",
     "output_type": "stream",
     "text": [
      "/opt/homebrew/lib/python3.11/site-packages/gymnasium/utils/passive_env_checker.py:364: UserWarning: \u001b[33mWARN: No render fps was declared in the environment (env.metadata['render_fps'] is None or not defined), rendering may occur at inconsistent fps.\u001b[0m\n",
      "  logger.warn(\n"
     ]
    },
    {
     "name": "stdout",
     "output_type": "stream",
     "text": [
      "Moviepy - Building video /Users/zake-jeonghwan-lee/Workspace/UTS/41004 Data Analytics Capstone Project/battlezone-sample/sample-episode-0.mp4.\n",
      "Moviepy - Writing video /Users/zake-jeonghwan-lee/Workspace/UTS/41004 Data Analytics Capstone Project/battlezone-sample/sample-episode-0.mp4\n",
      "\n"
     ]
    },
    {
     "name": "stderr",
     "output_type": "stream",
     "text": [
      "                                                                  \r"
     ]
    },
    {
     "name": "stdout",
     "output_type": "stream",
     "text": [
      "Moviepy - Done !\n",
      "Moviepy - video ready /Users/zake-jeonghwan-lee/Workspace/UTS/41004 Data Analytics Capstone Project/battlezone-sample/sample-episode-0.mp4\n"
     ]
    },
    {
     "ename": "",
     "evalue": "",
     "output_type": "error",
     "traceback": [
      "\u001b[1;31mThe Kernel crashed while executing code in the the current cell or a previous cell. Please review the code in the cell(s) to identify a possible cause of the failure. Click <a href='https://aka.ms/vscodeJupyterKernelCrash'>here</a> for more info. View Jupyter <a href='command:jupyter.viewOutput'>log</a> for further details."
     ]
    }
   ],
   "source": [
    "play(env, keys_to_action={'p': 1, 'w': 2, 'd': 3, 'a': 4, 's': 5}, fps=10, zoom=5, callback=onEveryStep)"
   ]
  },
  {
   "cell_type": "code",
   "execution_count": null,
   "id": "f426f044",
   "metadata": {},
   "outputs": [],
   "source": []
  }
 ],
 "metadata": {
  "kernelspec": {
   "display_name": "Python 3 (ipykernel)",
   "language": "python",
   "name": "python3"
  },
  "language_info": {
   "codemirror_mode": {
    "name": "ipython",
    "version": 3
   },
   "file_extension": ".py",
   "mimetype": "text/x-python",
   "name": "python",
   "nbconvert_exporter": "python",
   "pygments_lexer": "ipython3",
   "version": "3.11.3"
  }
 },
 "nbformat": 4,
 "nbformat_minor": 5
}
