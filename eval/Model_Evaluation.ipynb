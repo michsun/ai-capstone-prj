{
 "cells": [
  {
   "cell_type": "code",
   "execution_count": 1,
   "metadata": {
    "colab": {
     "base_uri": "https://localhost:8080/"
    },
    "executionInfo": {
     "elapsed": 29883,
     "status": "ok",
     "timestamp": 1681640966420,
     "user": {
      "displayName": "Sandra Policard Benetho",
      "userId": "10795048884332704506"
     },
     "user_tz": -600
    },
    "id": "TQQPzfeCnCT3",
    "outputId": "2627e82f-15de-4d1e-bc8e-fcfc6ccb054b"
   },
   "outputs": [],
   "source": [
    "# from google.colab import drive\n",
    "# drive.mount('/content/drive')"
   ]
  },
  {
   "cell_type": "code",
   "execution_count": 2,
   "metadata": {
    "executionInfo": {
     "elapsed": 401,
     "status": "ok",
     "timestamp": 1681641051614,
     "user": {
      "displayName": "Sandra Policard Benetho",
      "userId": "10795048884332704506"
     },
     "user_tz": -600
    },
    "id": "ujXH5jj5law2"
   },
   "outputs": [],
   "source": [
    "import torch\n",
    "import torch.nn as nn\n",
    "import torch.nn.functional as F\n",
    "import torchvision\n",
    "from torch.utils.data import Dataset\n",
    "import os\n",
    "import numpy as np\n",
    "import matplotlib as plt\n",
    "import pandas as pd\n",
    "import matplotlib.pyplot as plt\n",
    "import numpy as np\n",
    "import pickle\n",
    "from typing import List\n",
    "from tqdm import tqdm"
   ]
  },
  {
   "cell_type": "markdown",
   "metadata": {
    "id": "CDcZcX07mt0c"
   },
   "source": [
    "## Model and DataLoader Files"
   ]
  },
  {
   "cell_type": "code",
   "execution_count": 3,
   "metadata": {
    "executionInfo": {
     "elapsed": 3,
     "status": "ok",
     "timestamp": 1681641054914,
     "user": {
      "displayName": "Sandra Policard Benetho",
      "userId": "10795048884332704506"
     },
     "user_tz": -600
    },
    "id": "XF5rDn-bmgUC"
   },
   "outputs": [],
   "source": [
    "class SpatialSoftmax(torch.nn.Module):\n",
    "    def __init__(self, height, width, channel, temperature=None, data_format='NCHW'):\n",
    "        super(SpatialSoftmax, self).__init__()\n",
    "        self.data_format = data_format\n",
    "        self.height = height\n",
    "        self.width = width\n",
    "        self.channel = channel\n",
    "\n",
    "        if temperature:\n",
    "            self.temperature = torch.nn.Parameter(torch.ones(1)*temperature)\n",
    "        else:\n",
    "            self.temperature = 1.\n",
    "\n",
    "        pos_x, pos_y = np.meshgrid(\n",
    "                np.linspace(-1., 1., self.height),\n",
    "                np.linspace(-1., 1., self.width)\n",
    "                )\n",
    "        pos_x = torch.from_numpy(pos_x.reshape(self.height*self.width)).float()\n",
    "        pos_y = torch.from_numpy(pos_y.reshape(self.height*self.width)).float()\n",
    "        self.register_buffer('pos_x', pos_x)\n",
    "        self.register_buffer('pos_y', pos_y)\n",
    "\n",
    "    def forward(self, feature):\n",
    "        if self.data_format == 'NHWC':\n",
    "            feature = feature.transpose(1, 3).tranpose(2, 3).view(-1, self.height*self.width)\n",
    "        else:\n",
    "            feature = feature.view(-1, self.height*self.width)\n",
    "        \n",
    "        softmax_attention = F.softmax(feature/self.temperature, dim=-1)\n",
    "        expected_x = torch.sum(self.pos_x*softmax_attention, dim=1, keepdim=True)\n",
    "        expected_y = torch.sum(self.pos_y*softmax_attention, dim=1, keepdim=True)\n",
    "        expected_xy = torch.cat([expected_x, expected_y], 1)\n",
    "        feature_keypoints = expected_xy.view(-1, self.channel*2)\n",
    "\n",
    "        return feature_keypoints\n",
    "\n",
    "#Implementation of Network from Figure 3 (on pg 4) of paper\n",
    "class VRNet(nn.Module):\n",
    "    def __init__(self):\n",
    "        super(VRNet, self).__init__()\n",
    "        # Convolution 1 160x120x3 -> 77x57x64\n",
    "        # self.conv1_rgb = nn.Conv2d(3, 64, 7, padding='valid', stride=2)\n",
    "        self.conv1_rgb = nn.Conv2d(3, 64, 7, padding='valid', stride=2)\n",
    "\n",
    "        # Convolution 2 77x57x64 -> 77x57x32\n",
    "        self.conv2 = nn.Conv2d(64, 32, 1, padding='same')\n",
    "        self.conv2_bn = nn.BatchNorm2d(32, eps=0.001, momentum=0.99)\n",
    "        # Convolution 3 77x57x32 -> 75x55x32\n",
    "        self.conv3 = nn.Conv2d(32, 32, 3, padding='valid')\n",
    "        self.conv3_bn = nn.BatchNorm2d(32, eps=0.001, momentum=0.99)\n",
    "        # Convolution 4 75x55x32 -> 73x53x32\n",
    "        self.conv4 = nn.Conv2d(32, 32, 3, padding='valid')\n",
    "        self.conv4_bn = nn.BatchNorm2d(32, eps=0.001, momentum=0.99)\n",
    "\n",
    "        # spatial softmax\n",
    "        # self.spatialSoftmax = SpatialSoftmax(53, 73, 32, temperature=1, data_format='NCHW')\n",
    "        self.spatialSoftmax = SpatialSoftmax(193, 293, 32, temperature=1, data_format='NCHW')\n",
    "\n",
    "        self.flatten = nn.Flatten()\n",
    "\n",
    "        #fully connected layers\n",
    "        self.fc1 = nn.Linear(64, 50)\n",
    "        self.fc1_bn = nn.BatchNorm1d(50, eps=0.001, momentum=0.99)\n",
    "        self.fc2 = nn.Linear(50, 50)\n",
    "        self.fc2_bn = nn.BatchNorm1d(50, eps=0.001, momentum=0.99)\n",
    "        self.fc3 = nn.Linear(50, 50)\n",
    "        self.fc3_bn = nn.BatchNorm1d(50, eps=0.001, momentum=0.99)\n",
    "        # self.fc4 = nn.Linear(50, 7) # Vx, Vy, Vz, Wx, Wy, Wz, grabber open\n",
    "        self.fc4 = nn.Linear(50, 1)\n",
    "\n",
    "        #set conv1_rgb weights to be first layer from pretrained model\n",
    "        googlenet = torchvision.models.googlenet(pretrained=True)\n",
    "        self.conv1_rgb.weight.data = googlenet.conv1.conv.weight.data\n",
    "\n",
    "        #weights should be uniformly sampled from [-0.1, 0.1]\n",
    "        self.conv2.weight.data.uniform_(-0.1, 0.1)\n",
    "        self.conv3.weight.data.uniform_(-0.1, 0.1)\n",
    "        self.conv4.weight.data.uniform_(-0.1, 0.1)\n",
    "\n",
    "        self.fc1.weight.data.uniform_(-0.1, 0.1)\n",
    "        self.fc2.weight.data.uniform_(-0.1, 0.1)\n",
    "        self.fc3.weight.data.uniform_(-0.1, 0.1)\n",
    "        self.fc4.weight.data.uniform_(-0.1, 0.1)\n",
    "\n",
    "\n",
    "    # ADDED by Sandra # 20230314 - uses the batch normalization:\n",
    "    def forward(self, rgbImg):\n",
    "\n",
    "        # Convolution 1 160x120x3 -> 77x57x64\n",
    "        x = self.conv1_rgb(rgbImg)\n",
    "        x = F.relu(x)\n",
    "\n",
    "        # print_output(\"conv1_rgb_shape: \" + str(x.shape))\n",
    "        # print(\"conv1_rgb_shape:\", x.shape)\n",
    "\n",
    "        # Convolution 2 77x57x64 -> 77x57x32\n",
    "        # x = self.conv2_bn(self.conv2(x))\n",
    "        # x = F.relu(self.conv2_bn(x))\n",
    "        x = self.conv2(x)\n",
    "        # print_output(\"conv2_shape: \" + str(x.shape))\n",
    "        x = F.relu(self.conv2_bn(x))\n",
    "        # print_output(\"conv2_bn_shape: \" + str(x.shape))\n",
    "\n",
    "        # Convolution 3 77x57x32 -> 75x55x32\n",
    "        x = self.conv3(x)\n",
    "        # print_output(\"conv3_shape: \" + str(x.shape))\n",
    "        x = F.relu(self.conv3_bn(x))\n",
    "        # print_output(\"conv3_bn_shape: \" + str(x.shape))\n",
    "\n",
    "        # Convolution 4 75x55x32 -> 73x53x32\n",
    "        # x = self.conv4(x)\n",
    "        # x = F.relu(self.conv4_bn(x))\n",
    "        x = self.conv4(x)\n",
    "        # print_output(\"conv4_shape: \" + str(x.shape))\n",
    "        x = F.relu(self.conv4_bn(x))\n",
    "        # print_output(\"conv4_bn_shape:\"+ str(x.shape))\n",
    "\n",
    "        # spatial softmax\n",
    "        x = self.spatialSoftmax(x)\n",
    "        # print_output(\"spatialSoftmax_shape:\"+ str(x.shape))\n",
    "        \n",
    "\n",
    "        x = self.flatten(x)\n",
    "        # print_output(\"flatten_shape:\" + str(x.shape))\n",
    "\n",
    "        # Fully connected layers\n",
    "        x = F.relu(self.fc1(x))\n",
    "        # print_output(\"fc1_shape:\" + str(x.shape))\n",
    "        # x = F.relu(self.fc1_bn(x))\n",
    "        # print_output(\"fc1_bn_shape:\" + x.shape)\n",
    "        x = F.relu(self.fc2(x))\n",
    "        # print_output(\"fc2_shape:\" + str(x.shape))\n",
    "        # x = F.relu(self.fc2_bn(x))\n",
    "        # print_output(\"fc2_bn_shape:\" + str(x.shape))\n",
    "        x = F.relu(self.fc3(x))\n",
    "        # print_output(\"fc3_shape:\" + str(x.shape))\n",
    "        # x = F.relu(self.fc3_bn(x))\n",
    "        # print_output(\"fc3_bn_shape:\" + str(x.shape))\n",
    "\n",
    "        # Output layer\n",
    "        x = self.fc4(x)\n",
    "        # print_output(\"fc4_shape:\" + str(x.shape))\n",
    "\n",
    "        return x\n",
    "\n",
    "\n",
    "class DataLoader(Dataset):\n",
    "\n",
    "    def __init__(self, data_dir: str, episode_list: List, samples: int, batch_size=1):\n",
    "        self.data_dir = data_dir\n",
    "        self.episode_list = episode_list # number of episodes\n",
    "        self.samples = samples # number of samples in each episode\n",
    "        self.batch_size = batch_size\n",
    "        self.rgb_images, self.actions = self.load_data() # Changed - Sandra 10/04 - 7:50pm states to actions\n",
    "        self.arrayIndicies = list([i for i in range(len(self.rgb_images))])\n",
    "        print(len(self.rgb_images), len(self.actions))\n",
    "        assert(len(self.rgb_images) == len(self.actions))\n",
    "    \n",
    "    # train_data_loader function - by Sandra\n",
    "    # Output: rgbs list and action list\n",
    "\n",
    "    def load_data(self):\n",
    "        \"\"\"Loads data from the data directory and returns a list of rgb images and a list of actions\"\"\"\n",
    "        rgbs = []\n",
    "        actions = []\n",
    "        \n",
    "        for i in self.episode_list:\n",
    "            episode_number = str(i)\n",
    "            print(f\"Loading episode {episode_number}\")\n",
    "\n",
    "            episode_dir = os.path.join(self.data_dir, r\"episode-\" + episode_number)\n",
    "            episode_info_df = pd.read_csv(os.path.join(episode_dir, r\"episode-\" + episode_number +\".csv\"))\n",
    "            episode_actions = episode_info_df[\"Action\"].iloc[0:self.samples].tolist() # Changed - by Sandra 10/04 - 7:13pm\n",
    "            \n",
    "            for j in range(self.samples):\n",
    "                sample_number = str(j + 1)\n",
    "                # if int(sample_number) < 10:\n",
    "                #     zero_prefix = \"00\"\n",
    "                # elif int(sample_number) < 100:\n",
    "                #     zero_prefix = \"0\"\n",
    "                # else:\n",
    "                #     zero_prefix = \"\"\n",
    "                \n",
    "                rgb_path = os.path.join(episode_dir, \"episode-\" + episode_number + \"-\" + f\"{j+1:03d}\" + \".png\")\n",
    "                # rgb_path = os.path.join(episode_dir, \"episode-\" + episode_number + \"-\" + zero_prefix + sample_number+ \".png\")\n",
    "\n",
    "                rgb_image = torchvision.io.read_image(rgb_path)\n",
    "                rgbs.append(rgb_image)\n",
    "            actions = actions + episode_actions # Changed - by Sandra 10/04 - 7:13pm\n",
    "        \n",
    "        # Preprocessing rgbs\n",
    "        rgbs = torch.stack(rgbs).float() / 255\n",
    "        rgb_mean = torch.mean(rgbs, dim=(0, 2, 3))\n",
    "        \n",
    "        # #compute std\n",
    "        # rgb_std = torch.std(rgbs, dim=(0, 2, 3))\n",
    "        # #normalize images\n",
    "        # rgbs[:,0,:,:] = (rgbs[:,0,:,:] - rgb_mean[0]) / rgb_std[0]\n",
    "        # rgbs[:,1,:,:] = (rgbs[:,1,:,:] - rgb_mean[0]) / rgb_std[1]\n",
    "        # rgbs[:,2,:,:] = (rgbs[:,2,:,:] - rgb_mean[0]) / rgb_std[2]\n",
    "\n",
    "        # Modified by Sandra - 20230413 - to ensure data does not contain nan or infinite values\n",
    "        epsilon = 1e-6\n",
    "        rgb_std = torch.std(rgbs, dim=(0, 2, 3)) + epsilon\n",
    "        # rgb_std = torch.std(rgbs, dim=(0, 2, 3))\n",
    "        rgbs[:,0,:,:] = (rgbs[:,0,:,:] - rgb_mean[0]) / rgb_std[0]\n",
    "        rgbs[:,1,:,:] = (rgbs[:,1,:,:] - rgb_mean[0]) / rgb_std[1]\n",
    "        rgbs[:,2,:,:] = (rgbs[:,2,:,:] - rgb_mean[0]) / rgb_std[2]\n",
    "        #-------\n",
    "        \n",
    "        return rgbs, actions\n",
    "    \n",
    "    def __len__(self):\n",
    "        return len(self.actions) // self.batch_size # changed - Sandra - states to actions\n",
    "\n",
    "    def __getitem__(self, idx):\n",
    "        #shuffle array index mapping\n",
    "        # if idx == 0:\n",
    "        np.random.seed(103)\n",
    "        np.random.shuffle(self.arrayIndicies)\n",
    "            \n",
    "        idx = idx * self.batch_size\n",
    "        desiredIndexes = self.arrayIndicies[idx:idx+self.batch_size]\n",
    "\n",
    "        rgb_img = []\n",
    "        action = []\n",
    "        \n",
    "        for i in desiredIndexes:\n",
    "            rgb_img.append(self.rgb_images[i])\n",
    "            action.append(self.actions[i])\n",
    "\n",
    "        rgb_img = torch.stack(rgb_img)\n",
    "        # action = torch.stack(action)\n",
    "        action = torch.FloatTensor(action)\n",
    "        # action = torch.tensor(action)  \n",
    "        action = action.view(1, -1) \n",
    "\n",
    "        return rgb_img, action"
   ]
  },
  {
   "cell_type": "markdown",
   "metadata": {
    "id": "4Rm0BbPzm5Bw"
   },
   "source": [
    "## Test Accuracy"
   ]
  },
  {
   "cell_type": "code",
   "execution_count": 4,
   "metadata": {
    "executionInfo": {
     "elapsed": 3,
     "status": "ok",
     "timestamp": 1681641203959,
     "user": {
      "displayName": "Sandra Policard Benetho",
      "userId": "10795048884332704506"
     },
     "user_tz": -600
    },
    "id": "R7eGTM01mY-V"
   },
   "outputs": [],
   "source": [
    "def get_train_accuracy(model_path):\n",
    "    data_dir = \"data/simulated-samples/\"\n",
    "    data_loader = DataLoader(data_dir=data_dir, episode_list=[0,1,2,3,4], samples=499)\n",
    "    \n",
    "    loaded_model = VRNet()\n",
    "    if torch.cuda.is_available():\n",
    "        print(\"Using GPU\")\n",
    "        device = torch.device('cuda:0')\n",
    "    else:\n",
    "        print(\"Using CPU\")\n",
    "        device = torch.device('cpu')\n",
    "    \n",
    "    loaded_model.load_state_dict(torch.load(model_path, map_location=device))\n",
    "\n",
    "    loaded_model.to(device) # move model to GPU\n",
    "\n",
    "    if(loaded_model == None):\n",
    "        raise(\"Loaded model is empty\")\n",
    "\n",
    "    num_of_predictions = 0\n",
    "    correct_number_of_predictions = 0\n",
    "\n",
    "    for i in tqdm(range(len(data_loader))):\n",
    "        rgb_img, action = data_loader[i]\n",
    "\n",
    "        rgb_img = rgb_img.to(device).float()\n",
    "        target_action = action.to(device).float()\n",
    "        \n",
    "        output = loaded_model(rgb_img)\n",
    "        # Apply sigmoid activation\n",
    "        predicted_probs = torch.sigmoid(output)\n",
    "        predicted_action = (predicted_probs > 0.5).float()\n",
    "\n",
    "        if torch.equal(predicted_action, target_action):\n",
    "            correct_number_of_predictions += 1\n",
    "    \n",
    "        num_of_predictions += 1\n",
    "\n",
    "    accuracy = (correct_number_of_predictions/num_of_predictions) * 100 \n",
    "    return accuracy"
   ]
  },
  {
   "cell_type": "code",
   "execution_count": 5,
   "metadata": {
    "executionInfo": {
     "elapsed": 5,
     "status": "ok",
     "timestamp": 1681641206872,
     "user": {
      "displayName": "Sandra Policard Benetho",
      "userId": "10795048884332704506"
     },
     "user_tz": -600
    },
    "id": "mm1daNJNnmVj"
   },
   "outputs": [],
   "source": [
    "def get_test_accuracy(model_path):\n",
    "    data_dir = \"data/simulated-samples/\"\n",
    "    data_loader = DataLoader(data_dir=data_dir, episode_list=[5,6], samples=499)\n",
    "    \n",
    "    loaded_model = VRNet()\n",
    "    if torch.cuda.is_available():\n",
    "        print(\"Using GPU\")\n",
    "        device = torch.device('cuda:0')\n",
    "    else:\n",
    "        print(\"Using CPU\")\n",
    "        device = torch.device('cpu')\n",
    "        \n",
    "    loaded_model.load_state_dict(torch.load(model_path, map_location=device))\n",
    "\n",
    "    loaded_model.to(device) # move model to GPU\n",
    "\n",
    "    if(loaded_model == None):\n",
    "        raise(\"Loaded model is empty\")\n",
    "\n",
    "    num_of_predictions = 0\n",
    "    correct_number_of_predictions = 0\n",
    "\n",
    "    for i in tqdm(range(len(data_loader))):\n",
    "        rgb_img, action = data_loader[i]\n",
    "\n",
    "        rgb_img = rgb_img.to(device).float()\n",
    "        target_action = action.to(device).float()\n",
    "        \n",
    "        output = loaded_model(rgb_img)\n",
    "        # Apply sigmoid activation\n",
    "        predicted_probs = torch.sigmoid(output)\n",
    "        predicted_action = (predicted_probs > 0.5).float()\n",
    "\n",
    "        if torch.equal(predicted_action, target_action):\n",
    "            correct_number_of_predictions += 1\n",
    "    \n",
    "        num_of_predictions += 1\n",
    "\n",
    "    accuracy = (correct_number_of_predictions/num_of_predictions) * 100 \n",
    "    return accuracy"
   ]
  },
  {
   "cell_type": "code",
   "execution_count": 6,
   "metadata": {},
   "outputs": [],
   "source": [
    "def load_pickle(file_path):\n",
    "    with open(file_path + \".pkl\", 'rb') as f:\n",
    "        history = pickle.load(f)\n",
    "    return history"
   ]
  },
  {
   "cell_type": "markdown",
   "metadata": {
    "id": "N2WwKnT3os2V"
   },
   "source": [
    "# Training and Testing Accuracies of model"
   ]
  },
  {
   "cell_type": "markdown",
   "metadata": {
    "id": "eyJX6VjKl4xX"
   },
   "source": [
    "Model 1"
   ]
  },
  {
   "cell_type": "code",
   "execution_count": 48,
   "metadata": {
    "colab": {
     "base_uri": "https://localhost:8080/",
     "height": 324
    },
    "executionInfo": {
     "elapsed": 122979,
     "status": "error",
     "timestamp": 1681641331873,
     "user": {
      "displayName": "Sandra Policard Benetho",
      "userId": "10795048884332704506"
     },
     "user_tz": -600
    },
    "id": "5gKa1EKIn2Kp",
    "outputId": "f37e2bb8-f545-4dd1-ef22-bf3572e5fc0c",
    "scrolled": false
   },
   "outputs": [
    {
     "name": "stdout",
     "output_type": "stream",
     "text": [
      "Config: {'num_epochs': 50, 'learning_rate': 1e-05, 'optimizer': 'adam'}\n",
      "Final Training Loss: 0.1284046173095703\n",
      "Loading episode 0\n",
      "Loading episode 1\n",
      "Loading episode 2\n",
      "Loading episode 3\n",
      "Loading episode 4\n"
     ]
    },
    {
     "name": "stderr",
     "output_type": "stream",
     "text": [
      "C:\\Users\\Michelle\\Documents\\dev\\ai-capstone-prj\\env\\lib\\site-packages\\torchvision\\models\\_utils.py:208: UserWarning: The parameter 'pretrained' is deprecated since 0.13 and may be removed in the future, please use 'weights' instead.\n",
      "  warnings.warn(\n",
      "C:\\Users\\Michelle\\Documents\\dev\\ai-capstone-prj\\env\\lib\\site-packages\\torchvision\\models\\_utils.py:223: UserWarning: Arguments other than a weight enum or `None` for 'weights' are deprecated since 0.13 and may be removed in the future. The current behavior is equivalent to passing `weights=GoogLeNet_Weights.IMAGENET1K_V1`. You can also use `weights=GoogLeNet_Weights.DEFAULT` to get the most up-to-date weights.\n",
      "  warnings.warn(msg)\n"
     ]
    },
    {
     "name": "stdout",
     "output_type": "stream",
     "text": [
      "2495 2495\n",
      "Using GPU\n"
     ]
    },
    {
     "name": "stderr",
     "output_type": "stream",
     "text": [
      "100%|████████████████████████████████████████████████████████████████████████████████████████████████████████████████| 2495/2495 [00:07<00:00, 351.17it/s]\n"
     ]
    },
    {
     "name": "stdout",
     "output_type": "stream",
     "text": [
      "Train Accuracy: 50.06012024048096\n",
      "Loading episode 5\n",
      "Loading episode 6\n"
     ]
    },
    {
     "name": "stderr",
     "output_type": "stream",
     "text": [
      "C:\\Users\\Michelle\\Documents\\dev\\ai-capstone-prj\\env\\lib\\site-packages\\torchvision\\models\\_utils.py:208: UserWarning: The parameter 'pretrained' is deprecated since 0.13 and may be removed in the future, please use 'weights' instead.\n",
      "  warnings.warn(\n",
      "C:\\Users\\Michelle\\Documents\\dev\\ai-capstone-prj\\env\\lib\\site-packages\\torchvision\\models\\_utils.py:223: UserWarning: Arguments other than a weight enum or `None` for 'weights' are deprecated since 0.13 and may be removed in the future. The current behavior is equivalent to passing `weights=GoogLeNet_Weights.IMAGENET1K_V1`. You can also use `weights=GoogLeNet_Weights.DEFAULT` to get the most up-to-date weights.\n",
      "  warnings.warn(msg)\n"
     ]
    },
    {
     "name": "stdout",
     "output_type": "stream",
     "text": [
      "998 998\n",
      "Using GPU\n"
     ]
    },
    {
     "name": "stderr",
     "output_type": "stream",
     "text": [
      "100%|██████████████████████████████████████████████████████████████████████████████████████████████████████████████████| 998/998 [00:03<00:00, 323.30it/s]\n"
     ]
    },
    {
     "name": "stdout",
     "output_type": "stream",
     "text": [
      "Test Accuracy: 51.00200400801603\n"
     ]
    }
   ],
   "source": [
    "model_name = \"model-23-04-16-v2\"\n",
    "\n",
    "history = load_pickle(model_name + \".pkl\")\n",
    "print(\"Config:\", history[\"config\"])\n",
    "print(\"Final Training Loss:\", history[\"loss\"][-1])\n",
    "\n",
    "print(\"Train Accuracy:\", get_train_accuracy(model_name + \".pth\"))\n",
    "print(\"Test Accuracy:\", get_test_accuracy(model_name + \".pth\"))"
   ]
  },
  {
   "cell_type": "markdown",
   "metadata": {},
   "source": [
    "Model 2"
   ]
  },
  {
   "cell_type": "code",
   "execution_count": 49,
   "metadata": {
    "executionInfo": {
     "elapsed": 6,
     "status": "aborted",
     "timestamp": 1681641331875,
     "user": {
      "displayName": "Sandra Policard Benetho",
      "userId": "10795048884332704506"
     },
     "user_tz": -600
    },
    "id": "wwksb34kn9Wh"
   },
   "outputs": [
    {
     "name": "stdout",
     "output_type": "stream",
     "text": [
      "Config: {'num_epochs': 50, 'learning_rate': 1e-06, 'optimizer': 'adam'}\n",
      "Final Training Loss: 0.7116307616233826\n",
      "Loading episode 0\n",
      "Loading episode 1\n",
      "Loading episode 2\n",
      "Loading episode 3\n",
      "Loading episode 4\n"
     ]
    },
    {
     "name": "stderr",
     "output_type": "stream",
     "text": [
      "C:\\Users\\Michelle\\Documents\\dev\\ai-capstone-prj\\env\\lib\\site-packages\\torchvision\\models\\_utils.py:208: UserWarning: The parameter 'pretrained' is deprecated since 0.13 and may be removed in the future, please use 'weights' instead.\n",
      "  warnings.warn(\n",
      "C:\\Users\\Michelle\\Documents\\dev\\ai-capstone-prj\\env\\lib\\site-packages\\torchvision\\models\\_utils.py:223: UserWarning: Arguments other than a weight enum or `None` for 'weights' are deprecated since 0.13 and may be removed in the future. The current behavior is equivalent to passing `weights=GoogLeNet_Weights.IMAGENET1K_V1`. You can also use `weights=GoogLeNet_Weights.DEFAULT` to get the most up-to-date weights.\n",
      "  warnings.warn(msg)\n"
     ]
    },
    {
     "name": "stdout",
     "output_type": "stream",
     "text": [
      "2495 2495\n",
      "Using GPU\n"
     ]
    },
    {
     "name": "stderr",
     "output_type": "stream",
     "text": [
      "100%|████████████████████████████████████████████████████████████████████████████████████████████████████████████████| 2495/2495 [00:06<00:00, 365.76it/s]\n"
     ]
    },
    {
     "name": "stdout",
     "output_type": "stream",
     "text": [
      "Train Accuracy: 50.300601202404806\n",
      "Loading episode 5\n",
      "Loading episode 6\n"
     ]
    },
    {
     "name": "stderr",
     "output_type": "stream",
     "text": [
      "C:\\Users\\Michelle\\Documents\\dev\\ai-capstone-prj\\env\\lib\\site-packages\\torchvision\\models\\_utils.py:208: UserWarning: The parameter 'pretrained' is deprecated since 0.13 and may be removed in the future, please use 'weights' instead.\n",
      "  warnings.warn(\n",
      "C:\\Users\\Michelle\\Documents\\dev\\ai-capstone-prj\\env\\lib\\site-packages\\torchvision\\models\\_utils.py:223: UserWarning: Arguments other than a weight enum or `None` for 'weights' are deprecated since 0.13 and may be removed in the future. The current behavior is equivalent to passing `weights=GoogLeNet_Weights.IMAGENET1K_V1`. You can also use `weights=GoogLeNet_Weights.DEFAULT` to get the most up-to-date weights.\n",
      "  warnings.warn(msg)\n"
     ]
    },
    {
     "name": "stdout",
     "output_type": "stream",
     "text": [
      "998 998\n",
      "Using GPU\n"
     ]
    },
    {
     "name": "stderr",
     "output_type": "stream",
     "text": [
      "100%|██████████████████████████████████████████████████████████████████████████████████████████████████████████████████| 998/998 [00:02<00:00, 347.85it/s]\n"
     ]
    },
    {
     "name": "stdout",
     "output_type": "stream",
     "text": [
      "Test Accuracy: 50.50100200400801\n"
     ]
    }
   ],
   "source": [
    "model_name = \"model-23-04-16-v3\"\n",
    "\n",
    "history = load_pickle(model_name + \".pkl\")\n",
    "print(\"Config:\", history[\"config\"])\n",
    "print(\"Final Training Loss:\", history[\"loss\"][-1])\n",
    "\n",
    "print(\"Train Accuracy:\", get_train_accuracy(model_name + \".pth\"))\n",
    "print(\"Test Accuracy:\", get_test_accuracy(model_name + \".pth\"))"
   ]
  },
  {
   "cell_type": "markdown",
   "metadata": {
    "id": "oVOFyARel56U"
   },
   "source": [
    "Model 3"
   ]
  },
  {
   "cell_type": "code",
   "execution_count": 47,
   "metadata": {},
   "outputs": [
    {
     "name": "stdout",
     "output_type": "stream",
     "text": [
      "Config: {'num_epochs': 50, 'learning_rate': 5e-06, 'optimizer': 'adam'}\n",
      "Final Training Loss: 0.19330962002277374\n",
      "Loading episode 0\n",
      "Loading episode 1\n",
      "Loading episode 2\n",
      "Loading episode 3\n",
      "Loading episode 4\n"
     ]
    },
    {
     "name": "stderr",
     "output_type": "stream",
     "text": [
      "C:\\Users\\Michelle\\Documents\\dev\\ai-capstone-prj\\env\\lib\\site-packages\\torchvision\\models\\_utils.py:208: UserWarning: The parameter 'pretrained' is deprecated since 0.13 and may be removed in the future, please use 'weights' instead.\n",
      "  warnings.warn(\n",
      "C:\\Users\\Michelle\\Documents\\dev\\ai-capstone-prj\\env\\lib\\site-packages\\torchvision\\models\\_utils.py:223: UserWarning: Arguments other than a weight enum or `None` for 'weights' are deprecated since 0.13 and may be removed in the future. The current behavior is equivalent to passing `weights=GoogLeNet_Weights.IMAGENET1K_V1`. You can also use `weights=GoogLeNet_Weights.DEFAULT` to get the most up-to-date weights.\n",
      "  warnings.warn(msg)\n"
     ]
    },
    {
     "name": "stdout",
     "output_type": "stream",
     "text": [
      "2495 2495\n",
      "Using GPU\n"
     ]
    },
    {
     "name": "stderr",
     "output_type": "stream",
     "text": [
      "100%|████████████████████████████████████████████████████████████████████████████████████████████████████████████████| 2495/2495 [00:07<00:00, 354.63it/s]\n"
     ]
    },
    {
     "name": "stdout",
     "output_type": "stream",
     "text": [
      "Train Accuracy: 77.875751503006\n",
      "Loading episode 5\n",
      "Loading episode 6\n"
     ]
    },
    {
     "name": "stderr",
     "output_type": "stream",
     "text": [
      "C:\\Users\\Michelle\\Documents\\dev\\ai-capstone-prj\\env\\lib\\site-packages\\torchvision\\models\\_utils.py:208: UserWarning: The parameter 'pretrained' is deprecated since 0.13 and may be removed in the future, please use 'weights' instead.\n",
      "  warnings.warn(\n",
      "C:\\Users\\Michelle\\Documents\\dev\\ai-capstone-prj\\env\\lib\\site-packages\\torchvision\\models\\_utils.py:223: UserWarning: Arguments other than a weight enum or `None` for 'weights' are deprecated since 0.13 and may be removed in the future. The current behavior is equivalent to passing `weights=GoogLeNet_Weights.IMAGENET1K_V1`. You can also use `weights=GoogLeNet_Weights.DEFAULT` to get the most up-to-date weights.\n",
      "  warnings.warn(msg)\n"
     ]
    },
    {
     "name": "stdout",
     "output_type": "stream",
     "text": [
      "998 998\n",
      "Using GPU\n"
     ]
    },
    {
     "name": "stderr",
     "output_type": "stream",
     "text": [
      "100%|██████████████████████████████████████████████████████████████████████████████████████████████████████████████████| 998/998 [00:03<00:00, 324.83it/s]\n"
     ]
    },
    {
     "name": "stdout",
     "output_type": "stream",
     "text": [
      "Test Accuracy: 70.04008016032064\n"
     ]
    }
   ],
   "source": [
    "model_name = \"model-23-04-16-v4\"\n",
    "\n",
    "history = load_pickle(model_name + \".pkl\")\n",
    "print(\"Config:\", history[\"config\"])\n",
    "print(\"Final Training Loss:\", history[\"loss\"][-1])\n",
    "\n",
    "print(\"Train Accuracy:\", get_train_accuracy(model_name + \".pth\"))\n",
    "print(\"Test Accuracy:\", get_test_accuracy(model_name + \".pth\"))"
   ]
  },
  {
   "cell_type": "code",
   "execution_count": null,
   "metadata": {},
   "outputs": [],
   "source": []
  },
  {
   "cell_type": "markdown",
   "metadata": {},
   "source": [
    "## Loss Plot"
   ]
  },
  {
   "cell_type": "code",
   "execution_count": 10,
   "metadata": {},
   "outputs": [
    {
     "data": {
      "image/png": "[encoded data removed]",
      "text/plain": [
       "<Figure size 500x800 with 2 Axes>"
      ]
     },
     "metadata": {},
     "output_type": "display_data"
    }
   ],
   "source": [
    "EPOCHS = 50\n",
    "BATCH_SIZE = 4\n",
    "OPTIMIZER = \"adam\"\n",
    "LOSS_FUNCTION = \"bce\"\n",
    "\n",
    "LEARNING_RATE = 5e-05  \n",
    "m1 = f\"model_ep-{EPOCHS}_lr-{str(LEARNING_RATE)}_bs-{BATCH_SIZE}_opt-{OPTIMIZER}_loss-{LOSS_FUNCTION}\"\n",
    "\n",
    "LEARNING_RATE = 1e-05\n",
    "m2 = f\"model_ep-{EPOCHS}_lr-{str(LEARNING_RATE)}_bs-{BATCH_SIZE}_opt-{OPTIMIZER}_loss-{LOSS_FUNCTION}\"\n",
    "\n",
    "LEARNING_RATE = 5e-06\n",
    "m3 = f\"model_ep-{EPOCHS}_lr-{str(LEARNING_RATE)}_bs-{BATCH_SIZE}_opt-{OPTIMIZER}_loss-{LOSS_FUNCTION}\"\n",
    "\n",
    "LEARNING_RATE = 1e-06\n",
    "m4 = f\"model_ep-{EPOCHS}_lr-{str(LEARNING_RATE)}_bs-{BATCH_SIZE}_opt-{OPTIMIZER}_loss-{LOSS_FUNCTION}\"\n",
    "\n",
    "\n",
    "history1 = load_pickle(m1)\n",
    "history2 = load_pickle(m2)\n",
    "history3 = load_pickle(m3)\n",
    "history4 = load_pickle(m4)\n",
    "\n",
    "history = history3\n",
    "fig, ax = plt.subplots(nrows=2, ncols=1, figsize=(5,8))\n",
    "plt.suptitle(f\"Learning rate = 5e-06\", x=0.5, ha=\"center\")\n",
    "\n",
    "ax[0].plot(history[\"train_acc\"], color='orange')\n",
    "ax[0].set_xlim(left=0)\n",
    "ax[0].set_ylim(bottom=0, top=1)\n",
    "ax[0].set_yticks(np.arange(0, 1.1, 0.1))\n",
    "ax[0].set_yticklabels(['{:.2f}'.format(tick) for tick in ax[0].get_yticks()])\n",
    "ax[0].set_xlabel(\"Epochs\")\n",
    "ax[0].set_ylabel(\"Train Accuracy\")\n",
    "ax[0].grid(True, linestyle=\":\", linewidth=0.5)\n",
    "\n",
    "ax[1].plot(history[\"train_loss\"])\n",
    "ax[1].set_xlim(left=0-1)\n",
    "ax[1].set_ylim(bottom=0, top=max(1, max(history[\"train_loss\"])))\n",
    "ax[1].set_yticks(np.arange(0, max(1, max(history[\"train_loss\"])), 0.2))\n",
    "ax[1].set_yticklabels(['{:.2f}'.format(tick) for tick in ax[1].get_yticks()])\n",
    "ax[1].set_xlabel(\"Epochs\")\n",
    "ax[1].set_ylabel(\"Train Loss\")\n",
    "ax[1].grid(True, linestyle=\":\", linewidth=0.5)\n",
    "\n",
    "plt.tight_layout()\n",
    "plt.show()"
   ]
  },
  {
   "cell_type": "code",
   "execution_count": 18,
   "metadata": {},
   "outputs": [
    {
     "name": "stdout",
     "output_type": "stream",
     "text": [
      "Model 1: 0.7709705124534784\n",
      "Model 2: 0.6744918408245062\n",
      "Model 3: 0.7652447752648154\n"
     ]
    }
   ],
   "source": [
    "print(\"Model 1:\", history2[\"train_acc\"][-1])\n",
    "print(\"Model 2:\", history4[\"train_acc\"][-1])\n",
    "print(\"Model 3:\", history3[\"train_acc\"][-1])"
   ]
  },
  {
   "cell_type": "code",
   "execution_count": 19,
   "metadata": {},
   "outputs": [
    {
     "name": "stdout",
     "output_type": "stream",
     "text": [
      "Model 1: 0.835905909538269\n",
      "Model 2: 0.6997479200363159\n",
      "Model 3: 0.9557111263275146\n"
     ]
    }
   ],
   "source": [
    "print(\"Model 1:\", history2[\"train_loss\"][-1])\n",
    "print(\"Model 2:\", history4[\"train_loss\"][-1])\n",
    "print(\"Model 3:\", history3[\"train_loss\"][-1])"
   ]
  },
  {
   "cell_type": "code",
   "execution_count": 20,
   "metadata": {},
   "outputs": [
    {
     "name": "stdout",
     "output_type": "stream",
     "text": [
      "Model 1: 0.051532141864299774\n",
      "Model 2: 0.6501721739768982\n",
      "Model 3: 0.14837999641895294\n"
     ]
    }
   ],
   "source": [
    "print(\"Model 1:\", min(history2[\"train_loss\"]))\n",
    "print(\"Model 2:\", min(history4[\"train_loss\"]))\n",
    "print(\"Model 3:\", min(history3[\"train_loss\"]))"
   ]
  },
  {
   "cell_type": "code",
   "execution_count": null,
   "metadata": {},
   "outputs": [],
   "source": []
  }
 ],
 "metadata": {
  "colab": {
   "provenance": []
  },
  "kernelspec": {
   "display_name": "Python 3 (ipykernel)",
   "language": "python",
   "name": "python3"
  },
  "language_info": {
   "codemirror_mode": {
    "name": "ipython",
    "version": 3
   },
   "file_extension": ".py",
   "mimetype": "text/x-python",
   "name": "python",
   "nbconvert_exporter": "python",
   "pygments_lexer": "ipython3",
   "version": "3.9.16"
  },
  "toc": {
   "base_numbering": 1,
   "nav_menu": {},
   "number_sections": true,
   "sideBar": true,
   "skip_h1_title": false,
   "title_cell": "Table of Contents",
   "title_sidebar": "Contents",
   "toc_cell": false,
   "toc_position": {},
   "toc_section_display": true,
   "toc_window_display": false
  }
 },
 "nbformat": 4,
 "nbformat_minor": 1
}
